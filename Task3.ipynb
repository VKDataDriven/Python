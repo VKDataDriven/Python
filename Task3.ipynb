{
 "cells": [
  {
   "cell_type": "markdown",
   "id": "56cb257d-e17d-4dd7-93b6-5c93215a38e4",
   "metadata": {},
   "source": [
    "# Task3 - Lists"
   ]
  },
  {
   "cell_type": "markdown",
   "id": "fb959b53-ed67-40f6-8c2e-1cd5c6f5e3c3",
   "metadata": {},
   "source": [
    "1. Define List, properties and its methods and try to write an example for each of the methods.\n",
    "\n"
   ]
  },
  {
   "cell_type": "markdown",
   "id": "690e5fc2-436a-45ba-b9fd-a21b12e73d6c",
   "metadata": {},
   "source": [
    "Ans:\n",
    "A list is a built-in data type in Python used to store multiple items in a single variable. Lists are ordered, mutable, and allow duplicate values."
   ]
  },
  {
   "cell_type": "markdown",
   "id": "c2967f41-087f-42f8-8561-98d2229ebb7e",
   "metadata": {},
   "source": [
    "***Examples***"
   ]
  },
  {
   "cell_type": "code",
   "execution_count": 15,
   "id": "a5efd0df-9cc6-4fc4-af3f-516dfa43edc2",
   "metadata": {},
   "outputs": [
    {
     "name": "stdout",
     "output_type": "stream",
     "text": [
      "append(): [10, 20, 30, 40]\n"
     ]
    }
   ],
   "source": [
    "my_list = [10, 20, 30]\n",
    "\n",
    "# append(): Add an item at the end\n",
    "my_list.append(40)\n",
    "print(\"append():\", my_list)  \n"
   ]
  },
  {
   "cell_type": "code",
   "execution_count": 17,
   "id": "a8d90514-31d6-4767-bcfe-ba5a0a2fd6b5",
   "metadata": {},
   "outputs": [
    {
     "name": "stdout",
     "output_type": "stream",
     "text": [
      "insert(): [10, 15, 20, 30, 40]\n"
     ]
    }
   ],
   "source": [
    "# insert(): Insert at specific index\n",
    "my_list.insert(1, 15)\n",
    "print(\"insert():\", my_list)  "
   ]
  },
  {
   "cell_type": "code",
   "execution_count": 19,
   "id": "bc1d0411-80b7-4e3c-90c3-85173b378abc",
   "metadata": {},
   "outputs": [
    {
     "name": "stdout",
     "output_type": "stream",
     "text": [
      "remove(): [10, 15, 30, 40]\n"
     ]
    }
   ],
   "source": [
    "# remove(): Remove first occurrence of value\n",
    "my_list.remove(20)\n",
    "print(\"remove():\", my_list) "
   ]
  },
  {
   "cell_type": "code",
   "execution_count": 21,
   "id": "edc16532-82d2-4fea-ae55-09f593f225c4",
   "metadata": {},
   "outputs": [
    {
     "name": "stdout",
     "output_type": "stream",
     "text": [
      "pop(): [10, 15, 30]\n"
     ]
    }
   ],
   "source": [
    "# pop(): Remove element at a specific index (default last)\n",
    "my_list.pop()\n",
    "print(\"pop():\", my_list)   "
   ]
  },
  {
   "cell_type": "code",
   "execution_count": 23,
   "id": "d273f9fe-445c-4850-8f9c-3f8684655ccb",
   "metadata": {},
   "outputs": [
    {
     "name": "stdout",
     "output_type": "stream",
     "text": [
      "index of 15: 1\n"
     ]
    }
   ],
   "source": [
    "# index(): Find index of first occurrence\n",
    "print(\"index of 15:\", my_list.index(15)) "
   ]
  },
  {
   "cell_type": "code",
   "execution_count": null,
   "id": "2140fa1e-4ab9-4381-83c1-a77b54d12577",
   "metadata": {},
   "outputs": [],
   "source": [
    "# count(): Count how many times a value occurs\n",
    "print(\"count of 10:\", my_list.count(10)) \n"
   ]
  },
  {
   "cell_type": "code",
   "execution_count": null,
   "id": "4e08157d-711b-4e84-a9f3-83a7f78a1e75",
   "metadata": {},
   "outputs": [],
   "source": [
    "# sort(): Sort the list in ascending order\n",
    "my_list.sort()\n",
    "print(\"sorted list:\", my_list) "
   ]
  },
  {
   "cell_type": "code",
   "execution_count": null,
   "id": "184233c1-ec65-4d6a-bc25-a546d79b2a4a",
   "metadata": {},
   "outputs": [],
   "source": [
    "# reverse(): Reverse the order\n",
    "my_list.reverse()\n",
    "print(\"reversed list:\", my_list)"
   ]
  },
  {
   "cell_type": "code",
   "execution_count": null,
   "id": "4858613a-fa68-4cb1-8102-16bef7e4384f",
   "metadata": {},
   "outputs": [],
   "source": [
    "# clear(): Remove all items\n",
    "my_list.clear()\n",
    "print(\"cleared list:\", my_list) "
   ]
  },
  {
   "cell_type": "markdown",
   "id": "4778a4cb-79b6-4b4e-9db2-b8e5d6a56c3b",
   "metadata": {},
   "source": [
    "2. explain about the list and their properties."
   ]
  },
  {
   "cell_type": "markdown",
   "id": "67928f37-2873-49e6-a64b-b1f74ef9c2f8",
   "metadata": {},
   "source": [
    "***Properties***\n",
    "- Ordered: Elements have a defined order (index-based).\n",
    "- Mutable: You can change elements after the list is created.\n",
    "- Duplicates: Lists allow repeated values.\n",
    "- Mixed Data: Can hold elements of different types (int, str, float…)."
   ]
  },
  {
   "cell_type": "markdown",
   "id": "5bc13f8c-00b6-4df2-a752-93c641943a27",
   "metadata": {},
   "source": [
    "3. Create an empty list called numbers. Append the numbers 1, 2, and 3 to the list.\n",
    "- Modify the element at index 1 to be 4.\n",
    "- Print the updated list.\n"
   ]
  },
  {
   "cell_type": "code",
   "execution_count": 29,
   "id": "3e4926e7-5dff-4142-a1f5-a3421352a239",
   "metadata": {},
   "outputs": [
    {
     "name": "stdout",
     "output_type": "stream",
     "text": [
      "Updated numbers: [1, 4, 3]\n"
     ]
    }
   ],
   "source": [
    "numbers = []\n",
    "numbers.append(1)\n",
    "numbers.append(2)\n",
    "numbers.append(3)\n",
    "numbers[1] = 4 \n",
    "print(\"Updated numbers:\", numbers)  \n"
   ]
  },
  {
   "cell_type": "markdown",
   "id": "990f2889-f72d-4d74-82d7-3239d1a71af0",
   "metadata": {},
   "source": [
    "4. Create a list called fruits with elements 'apple', 'banana', 'orange', 'mango', and 'kiwi'.\"\n",
    "- Create a new list by slicing fruits to include only the citrus fruits ('orange' and 'mango\"\").\n",
    "- Create a new list called tropical by slicing fruits to include only the tropical fruits (\"banana\" and ‘kiwi').\n",
    "- Concatenate citrus and tropical lists to create a new list called combined. Print combined.\n"
   ]
  },
  {
   "cell_type": "code",
   "execution_count": 33,
   "id": "b3ceb465-0ecf-479d-9d6d-53d44d7372ae",
   "metadata": {},
   "outputs": [
    {
     "name": "stdout",
     "output_type": "stream",
     "text": [
      "['apple', 'banana', 'orange', 'mango', 'kiwi']\n"
     ]
    }
   ],
   "source": [
    "#4. Create a list called fruits with elements 'apple', 'banana', 'orange', 'mango', and 'kiwi'.\"\n",
    "fruits = ['apple', 'banana', 'orange', 'mango', 'kiwi']\n",
    "print(fruits)"
   ]
  },
  {
   "cell_type": "code",
   "execution_count": 35,
   "id": "c1562ae6-3210-4b9c-9c0d-95b4b3fac21e",
   "metadata": {},
   "outputs": [
    {
     "name": "stdout",
     "output_type": "stream",
     "text": [
      "['orange', 'mango']\n"
     ]
    }
   ],
   "source": [
    "# Citrus fruits (slicing orange to mango)\n",
    "citrus = fruits[2:4]\n",
    "print(citrus)"
   ]
  },
  {
   "cell_type": "code",
   "execution_count": 37,
   "id": "84e7df78-71ef-458b-8ec8-82302165216d",
   "metadata": {},
   "outputs": [
    {
     "name": "stdout",
     "output_type": "stream",
     "text": [
      "['banana', 'kiwi']\n"
     ]
    }
   ],
   "source": [
    "# Tropical fruits ('banana' and 'kiwi')\n",
    "tropical = [fruits[1], fruits[4]]  \n",
    "print(tropical)"
   ]
  },
  {
   "cell_type": "code",
   "execution_count": 39,
   "id": "f1a1436e-f1cd-4c22-a640-10c91700dbfa",
   "metadata": {},
   "outputs": [
    {
     "name": "stdout",
     "output_type": "stream",
     "text": [
      "Combined fruits: ['orange', 'mango', 'banana', 'kiwi']\n"
     ]
    }
   ],
   "source": [
    "# Combine lists\n",
    "combined = citrus + tropical\n",
    "print(\"Combined fruits:\", combined)"
   ]
  },
  {
   "cell_type": "markdown",
   "id": "a7342791-7ee8-47fd-8665-5984ba6480a5",
   "metadata": {},
   "source": [
    "5. Create a list called colors with repeated elements 'red', 'blue', 'red', 'green', 'red'.\n",
    "- Print the number of occurrences of 'red' in the list.\n",
    "- Remove all occurrences of 'red' from the list.\n",
    "- Print the updated list.\"\n"
   ]
  },
  {
   "cell_type": "code",
   "execution_count": 1,
   "id": "d3303719-1de0-4c96-9b37-629e5f31926e",
   "metadata": {},
   "outputs": [
    {
     "name": "stdout",
     "output_type": "stream",
     "text": [
      "Count of 'red': 3\n"
     ]
    }
   ],
   "source": [
    "colors = ['red', 'blue', 'red', 'green', 'red']\n",
    "print(\"Count of 'red':\", colors.count('red'))"
   ]
  },
  {
   "cell_type": "code",
   "execution_count": 5,
   "id": "79ff20f4-fffa-4e50-8068-261b1e6bcbe7",
   "metadata": {},
   "outputs": [
    {
     "name": "stdout",
     "output_type": "stream",
     "text": [
      "['blue', 'green']\n"
     ]
    }
   ],
   "source": [
    "# Remove all occurrences of 'red' from the list.\n",
    "new_colors = []\n",
    "for i in colors:\n",
    "    if i !='red':\n",
    "        new_colors.append(i)\n",
    "\n",
    "print(new_colors)"
   ]
  },
  {
   "cell_type": "markdown",
   "id": "01463f22-428b-4820-abd7-67330f94c733",
   "metadata": {},
   "source": [
    "6. Create a list called groceries with initial items: 'bread', 'milk', 'eggs', 'butter'.\n",
    "- Add 'cheese' to the end of the list.\n",
    "- Remove 'milk' from the list.\n",
    "- Print the final list of groceries.\"\n",
    "- Insert 'yogurt' at index 1."
   ]
  },
  {
   "cell_type": "code",
   "execution_count": 7,
   "id": "ade04ca4-8741-44a1-bb2d-491beff4c5d4",
   "metadata": {},
   "outputs": [
    {
     "name": "stdout",
     "output_type": "stream",
     "text": [
      "['bread', 'eggs', 'butter', 'cheese']\n"
     ]
    }
   ],
   "source": [
    "groceries = ['bread', 'milk', 'eggs', 'butter']\n",
    "groceries.append('cheese')         # Add 'cheese'\n",
    "groceries.remove('milk')           # Remove 'milk'\n",
    "print(groceries)"
   ]
  },
  {
   "cell_type": "code",
   "execution_count": 9,
   "id": "09a828f0-fed6-46fa-9449-f1e6e84539c8",
   "metadata": {},
   "outputs": [
    {
     "name": "stdout",
     "output_type": "stream",
     "text": [
      "Final groceries list: ['bread', 'yogurt', 'eggs', 'butter', 'cheese']\n"
     ]
    }
   ],
   "source": [
    "groceries.insert(1, 'yogurt')      # Insert 'yogurt' at index 1\n",
    "print(\"Final groceries list:\", groceries)"
   ]
  },
  {
   "cell_type": "code",
   "execution_count": null,
   "id": "21976173-8b93-4d09-a3cf-c7c0fc1f5900",
   "metadata": {},
   "outputs": [],
   "source": []
  },
  {
   "cell_type": "markdown",
   "id": "c96c5559-d50e-45ba-a6bc-e215ad391c37",
   "metadata": {},
   "source": [
    "------------------------------------------------------------The End!---------------------------------------------------"
   ]
  }
 ],
 "metadata": {
  "kernelspec": {
   "display_name": "Python [conda env:pneumonia_env]",
   "language": "python",
   "name": "conda-env-pneumonia_env-py"
  },
  "language_info": {
   "codemirror_mode": {
    "name": "ipython",
    "version": 3
   },
   "file_extension": ".py",
   "mimetype": "text/x-python",
   "name": "python",
   "nbconvert_exporter": "python",
   "pygments_lexer": "ipython3",
   "version": "3.9.15"
  }
 },
 "nbformat": 4,
 "nbformat_minor": 5
}
