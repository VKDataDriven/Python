{
 "cells": [
  {
   "cell_type": "markdown",
   "id": "cb29abb8-7db8-4663-a374-458eaf0a09e8",
   "metadata": {},
   "source": [
    "## Task - 4 Tuple"
   ]
  },
  {
   "cell_type": "markdown",
   "id": "624f2f43-fc6c-4ebb-a8c0-b5ccb21ffe63",
   "metadata": {},
   "source": [
    "1. Lists the tuple Properties and Explain immutability in Python tuples with examples. "
   ]
  },
  {
   "cell_type": "markdown",
   "id": "7f3cc385-4616-47ff-b0cc-ff048a5cd1a5",
   "metadata": {},
   "source": [
    "### Tuple Properties\n",
    "- ***Ordered***: Elements are stored in a defined sequence and can be accessed using an index.\n",
    "- ***Immutable***: Once created, elements in a tuple cannot be changed, added, or removed.\n",
    "- ***Allow Duplicates***: Tuples can contain repeated values.\n",
    "- ***Heterogeneous***: Can hold elements of different data types (e.g., integers, strings, lists, other tuples).\n",
    "- ***Hashable***: Since they are immutable, they can be used as dictionary keys or elements of a set (if all elements are hashable)."
   ]
  },
  {
   "cell_type": "markdown",
   "id": "94ae451b-b4ec-4a8e-b6c9-ffb96b78ec08",
   "metadata": {},
   "source": [
    "#### Immutability in Tuples\n",
    "> 'Once a tuple is created, its contents cannot be modified (no item assignment, addition, or deletion).'"
   ]
  },
  {
   "cell_type": "code",
   "execution_count": 110,
   "id": "f21aff59-6c31-47a8-a71a-02debe2e25c6",
   "metadata": {},
   "outputs": [
    {
     "ename": "TypeError",
     "evalue": "'tuple' object does not support item assignment",
     "output_type": "error",
     "traceback": [
      "\u001b[1;31m---------------------------------------------------------------------------\u001b[0m",
      "\u001b[1;31mTypeError\u001b[0m                                 Traceback (most recent call last)",
      "Cell \u001b[1;32mIn[110], line 2\u001b[0m\n\u001b[0;32m      1\u001b[0m t \u001b[38;5;241m=\u001b[39m (\u001b[38;5;241m1\u001b[39m, \u001b[38;5;241m2\u001b[39m, \u001b[38;5;241m3\u001b[39m)\n\u001b[1;32m----> 2\u001b[0m \u001b[43mt\u001b[49m\u001b[43m[\u001b[49m\u001b[38;5;241;43m0\u001b[39;49m\u001b[43m]\u001b[49m \u001b[38;5;241m=\u001b[39m \u001b[38;5;241m10\u001b[39m\n",
      "\u001b[1;31mTypeError\u001b[0m: 'tuple' object does not support item assignment"
     ]
    }
   ],
   "source": [
    "t = (1, 2, 3)\n",
    "t[0] = 10"
   ]
  },
  {
   "cell_type": "markdown",
   "id": "220946e4-0de9-4ec2-84cc-4c694cf7d4f7",
   "metadata": {},
   "source": [
    "> 'However, if a mutable object like a list is inside a tuple, you can modify that object.'"
   ]
  },
  {
   "cell_type": "code",
   "execution_count": null,
   "id": "07a402ee-dadc-4762-b484-76da84be67b8",
   "metadata": {},
   "outputs": [],
   "source": [
    "t = (1, [2, 3], 4)\n",
    "t[1][0] = 99  \n",
    "print(t) "
   ]
  },
  {
   "cell_type": "markdown",
   "id": "5f91c887-3343-452f-ba2a-60ba5c41195a",
   "metadata": {},
   "source": [
    "2. Tuple Basics Create a Python tuple containing the names of your favorite fruits. Write a Python program to print each fruit name from the tuple."
   ]
  },
  {
   "cell_type": "code",
   "execution_count": null,
   "id": "e3f1c174-044e-4512-996b-a1970027c460",
   "metadata": {},
   "outputs": [],
   "source": [
    "fruits =('mango','apple','banana')\n",
    "#print(fruits)\n",
    "\n",
    "# by using the for loop\n",
    "for i in fruits:\n",
    "    print(i)"
   ]
  },
  {
   "cell_type": "markdown",
   "id": "356b9761-346c-4f07-81bf-4063341f3cc7",
   "metadata": {},
   "source": [
    "3. Given two tuples, write a Python program to concatenate them into a single tuple and then find the length of the resulting tuple."
   ]
  },
  {
   "cell_type": "code",
   "execution_count": null,
   "id": "aad534de-c172-482a-bf9c-3f37201b2f63",
   "metadata": {},
   "outputs": [],
   "source": [
    "t1 = ('vamshi',27)\n",
    "t2 = ('krishna',23)\n",
    "\n",
    "t3 = t1+t2\n",
    "\n",
    "print('After Concatinated new tuple: ',t3)\n",
    "\n",
    "print('Length of the tuple: ', len(t3))"
   ]
  },
  {
   "cell_type": "markdown",
   "id": "d5fbb086-ae4e-4125-ad49-1e0f97f7d2cd",
   "metadata": {},
   "source": [
    "4. Write a Python program that takes a tuple of integers and converts it into a set. Then, find and print the maximum and minimum value from the set.\n"
   ]
  },
  {
   "cell_type": "code",
   "execution_count": null,
   "id": "b912e726-2e19-4ae6-8e69-01addd5be7ce",
   "metadata": {},
   "outputs": [],
   "source": [
    "t =(1,2,3,3,4,4,5)\n",
    "s = set(t)\n",
    "print('After Converting the tuple to set:',s)\n",
    "\n",
    "print('Minimum: ', min(s))\n",
    "print('Maximum: ', max(s))"
   ]
  },
  {
   "cell_type": "markdown",
   "id": "5a7f0fc0-a2a7-404a-bff4-e314505adeb6",
   "metadata": {},
   "source": [
    "5. Tuple Slicing Given a tuple of 10 elements, write a Python program to print the elements from the 3rd to the 7th position using slicing.\n"
   ]
  },
  {
   "cell_type": "code",
   "execution_count": null,
   "id": "3be6b873-687e-4096-bb0f-843ba2ba4e2e",
   "metadata": {},
   "outputs": [],
   "source": [
    "t=(1,2,3,4,5,6,7,8,9,0)\n",
    "print('Printing the 3rd to 7th position: ',t[2:7])"
   ]
  },
  {
   "cell_type": "markdown",
   "id": "e347985f-16e0-44a7-8be7-6282539c264b",
   "metadata": {},
   "source": [
    "6. Access value 20 from the tuple1 = (\"Orange\", [10, 20, 30], (5, 15, 25))\n"
   ]
  },
  {
   "cell_type": "code",
   "execution_count": null,
   "id": "9339c8f7-72e1-4820-b365-08111499172b",
   "metadata": {},
   "outputs": [],
   "source": [
    "tuple1 = (\"Orange\",[10,20,30],(5,15,25))\n",
    "print(tuple1[1][1])"
   ]
  },
  {
   "cell_type": "markdown",
   "id": "d63bb393-164c-4c3d-8dee-b23c12aa893d",
   "metadata": {},
   "source": [
    "7. tup=(1,2,3,2,4,5,3,4,2). Count the occurrences of element ‘2’ in the given tuple.\n"
   ]
  },
  {
   "cell_type": "code",
   "execution_count": null,
   "id": "13722afe-3263-4255-b84e-a19da9cf89ea",
   "metadata": {},
   "outputs": [],
   "source": [
    "tup=(1,2,3,2,4,5,3,4,2)\n",
    "print('Occurences of element 2: ',tup.count(2))"
   ]
  },
  {
   "cell_type": "markdown",
   "id": "ca5cdb4a-6eb7-49dc-a81c-27ea3b963a44",
   "metadata": {},
   "source": [
    "8. Create a tuple of numbers. Use slicing to create a new tuple containing only the even-indexed elements of the original tuple.\n"
   ]
  },
  {
   "cell_type": "code",
   "execution_count": null,
   "id": "109cee18-7a71-478e-9200-84d849c84031",
   "metadata": {},
   "outputs": [],
   "source": [
    "tup=(0,1,2,3,4,5,6,7,8,9)\n",
    "print(tup[2::2])"
   ]
  },
  {
   "cell_type": "markdown",
   "id": "fe604bae-523a-4623-971f-9a7feb4a9167",
   "metadata": {},
   "source": [
    "### ------------------------***The End!***----------------------------"
   ]
  }
 ],
 "metadata": {
  "kernelspec": {
   "display_name": "Python [conda env:pneumonia_env]",
   "language": "python",
   "name": "conda-env-pneumonia_env-py"
  },
  "language_info": {
   "codemirror_mode": {
    "name": "ipython",
    "version": 3
   },
   "file_extension": ".py",
   "mimetype": "text/x-python",
   "name": "python",
   "nbconvert_exporter": "python",
   "pygments_lexer": "ipython3",
   "version": "3.9.15"
  }
 },
 "nbformat": 4,
 "nbformat_minor": 5
}
