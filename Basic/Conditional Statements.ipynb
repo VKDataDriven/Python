{
 "cells": [
  {
   "cell_type": "markdown",
   "id": "e7b69122-1bf3-41a7-95b6-119bdf772412",
   "metadata": {},
   "source": [
    "## Task 7: Conditional Statements "
   ]
  },
  {
   "cell_type": "markdown",
   "id": "3e9a11b2-0075-492b-99b8-5f9b58150adf",
   "metadata": {},
   "source": [
    "1. A company decided to give a bonus of 5% of their salary to employees if his/her years of service is more than 5 years.\n",
    "- Ask the user for their salary and years of service and print the net amount of that person.\n"
   ]
  },
  {
   "cell_type": "code",
   "execution_count": 12,
   "id": "a6ef0321-3b6c-44ff-86f9-cb36978c8eed",
   "metadata": {},
   "outputs": [
    {
     "name": "stdin",
     "output_type": "stream",
     "text": [
      "Enter your salary:  30000\n",
      "Enter your years of service:  6\n"
     ]
    },
    {
     "name": "stdout",
     "output_type": "stream",
     "text": [
      "Bonus = 1500.0, Net Amount = 31500.0\n"
     ]
    }
   ],
   "source": [
    "salary = float(input(\"Enter your salary: \"))\n",
    "years_of_service = int(input(\"Enter your years of service: \"))\n",
    "\n",
    "if years_of_service > 5:\n",
    "    bonus = 0.05 * salary\n",
    "    net_salary = salary + bonus\n",
    "    print(f\"Bonus = {bonus}, Net Amount = {net_salary}\")\n",
    "else:\n",
    "    print(f\"No bonus. Net Amount = {salary}\")\n"
   ]
  },
  {
   "cell_type": "markdown",
   "id": "3d3f8df7-2840-4aeb-b161-346b1342598b",
   "metadata": {},
   "source": [
    "2. A school has following rules for grading system:\n",
    "- a. Below 25 - F grade\n",
    "- b. 25 to 45 - E\n",
    "- c. 45 to 50 - D\n",
    "- d. 50 to 60 - C\n",
    "- e. 60 to 80 - B\n",
    "- f. Above 80 - A\n",
    "- Ask the user to enter marks and print the corresponding grade.\n"
   ]
  },
  {
   "cell_type": "code",
   "execution_count": 14,
   "id": "16e1079c-d2a8-4fd6-9e24-c9dc6514c843",
   "metadata": {},
   "outputs": [
    {
     "name": "stdin",
     "output_type": "stream",
     "text": [
      "Enter your marks:  23\n"
     ]
    },
    {
     "name": "stdout",
     "output_type": "stream",
     "text": [
      "Your grade is: F\n"
     ]
    }
   ],
   "source": [
    "marks = int(input(\"Enter your marks: \"))\n",
    "\n",
    "if marks < 25:\n",
    "    grade = 'F'\n",
    "elif marks < 45:\n",
    "    grade = 'E'\n",
    "elif marks < 50:\n",
    "    grade = 'D'\n",
    "elif marks < 60:\n",
    "    grade = 'C'\n",
    "elif marks < 80:\n",
    "    grade = 'B'\n",
    "else:\n",
    "    grade = 'A'\n",
    "\n",
    "print(f\"Your grade is: {grade}\")\n"
   ]
  },
  {
   "cell_type": "markdown",
   "id": "eaacc90c-78de-4818-b2ea-640642afc1e9",
   "metadata": {},
   "source": [
    "3. Create a program that asks the user for their age and nationality. Depending on their age and nationality, display a different message using nested if statements. For example, if they are under 18 and from the USA, display \"You are a minor from the USA.\"\n"
   ]
  },
  {
   "cell_type": "code",
   "execution_count": 16,
   "id": "0055ea19-fa26-4cbf-980c-7e8333b9a358",
   "metadata": {},
   "outputs": [
    {
     "name": "stdin",
     "output_type": "stream",
     "text": [
      "Enter your age:  19\n",
      "Enter your nationality:  usa\n"
     ]
    },
    {
     "name": "stdout",
     "output_type": "stream",
     "text": [
      "You are an adult from Usa.\n"
     ]
    }
   ],
   "source": [
    "age = int(input(\"Enter your age: \"))\n",
    "nationality = input(\"Enter your nationality: \").lower()\n",
    "\n",
    "if age < 18:\n",
    "    if nationality == \"usa\":\n",
    "        print(\"You are a minor from the USA.\")\n",
    "    else:\n",
    "        print(f\"You are a minor from {nationality.title()}.\")\n",
    "else:\n",
    "    print(f\"You are an adult from {nationality.title()}.\")\n"
   ]
  },
  {
   "cell_type": "markdown",
   "id": "bc3b84b9-1117-4f2e-aedb-f47598b642fe",
   "metadata": {},
   "source": [
    "4. Using following list of cities per country,\n",
    "india = [\"mumbai\", \"banglore\", \"chennai\", \"delhi\"]\n",
    "pakistan = [\"lahore\",\"karachi\",\"islamabad\"]\n",
    "bangladesh = [\"dhaka\", \"khulna\", \"rangpur\"]\n",
    "Write a program that asks user to enter a city name and it should tell which country the city belongs to\n"
   ]
  },
  {
   "cell_type": "code",
   "execution_count": 18,
   "id": "be18bfb2-aa16-47d9-90f1-3d9c07cc523e",
   "metadata": {},
   "outputs": [
    {
     "name": "stdin",
     "output_type": "stream",
     "text": [
      "Enter a city name:  mumbai\n"
     ]
    },
    {
     "name": "stdout",
     "output_type": "stream",
     "text": [
      "City belongs to India.\n"
     ]
    }
   ],
   "source": [
    "city = input(\"Enter a city name: \").lower()\n",
    "\n",
    "india = [\"mumbai\", \"banglore\", \"chennai\", \"delhi\"]\n",
    "pakistan = [\"lahore\", \"karachi\", \"islamabad\"]\n",
    "bangladesh = [\"dhaka\", \"khulna\", \"rangpur\"]\n",
    "\n",
    "if city in india:\n",
    "    print(\"City belongs to India.\")\n",
    "elif city in pakistan:\n",
    "    print(\"City belongs to Pakistan.\")\n",
    "elif city in bangladesh:\n",
    "    print(\"City belongs to Bangladesh.\")\n",
    "else:\n",
    "    print(\"City not recognized.\")\n"
   ]
  },
  {
   "cell_type": "markdown",
   "id": "b97a243d-ff37-4903-ab17-8154bf8b2360",
   "metadata": {},
   "source": [
    "5. Write a program that asks the user to enter two cities and it tells you if they both are in the same country or not. For example if I enter mumbai and chennai, it will print \"Both cities are in India\" , but if I enter mumbai and dhaka it should print \"They don't belong to the same country\".\n"
   ]
  },
  {
   "cell_type": "code",
   "execution_count": 20,
   "id": "116721a0-980c-4a1c-af85-e5196fcb7b99",
   "metadata": {},
   "outputs": [
    {
     "name": "stdin",
     "output_type": "stream",
     "text": [
      "Enter first city:  mumbai\n",
      "Enter second city:  mumbai\n"
     ]
    },
    {
     "name": "stdout",
     "output_type": "stream",
     "text": [
      "Both cities are in India\n"
     ]
    }
   ],
   "source": [
    "city1 = input(\"Enter first city: \").lower()\n",
    "city2 = input(\"Enter second city: \").lower()\n",
    "\n",
    "countries = {\n",
    "    \"india\": [\"mumbai\", \"banglore\", \"chennai\", \"delhi\"],\n",
    "    \"pakistan\": [\"lahore\", \"karachi\", \"islamabad\"],\n",
    "    \"bangladesh\": [\"dhaka\", \"khulna\", \"rangpur\"]\n",
    "}\n",
    "\n",
    "found1 = found2 = \"\"\n",
    "\n",
    "for country, cities in countries.items():\n",
    "    if city1 in cities:\n",
    "        found1 = country\n",
    "    if city2 in cities:\n",
    "        found2 = country\n",
    "\n",
    "if found1 and found2:\n",
    "    if found1 == found2:\n",
    "        print(f\"Both cities are in {found1.title()}\")\n",
    "    else:\n",
    "        print(\"They don't belong to the same country.\")\n",
    "else:\n",
    "    print(\"One or both cities not recognized.\")\n"
   ]
  },
  {
   "cell_type": "markdown",
   "id": "6b3963a9-54ed-497e-afa6-fb541cae7c32",
   "metadata": {},
   "source": [
    "6. Write a program which will accept a word and a number from the user. Check if the     word starts with a vowel and the number is even and write appropriate conditions accordingly (Case sensitivity should not matter).\n",
    "\n",
    "Example :\n",
    "- Innoamtics, 6 --- both the conditions are satisfied\n",
    "- innomatics, 5--- at least one condition is satisfied\n",
    "- Ramya, 6--- at least one condition is satisfied\n"
   ]
  },
  {
   "cell_type": "code",
   "execution_count": 22,
   "id": "0bbda4ed-818d-461f-a1df-53b004e767cc",
   "metadata": {},
   "outputs": [
    {
     "name": "stdin",
     "output_type": "stream",
     "text": [
      "Enter a word:  Vamshi\n",
      "Enter a number:  8\n"
     ]
    },
    {
     "name": "stdout",
     "output_type": "stream",
     "text": [
      "At least one condition is satisfied.\n"
     ]
    }
   ],
   "source": [
    "word = input(\"Enter a word: \").lower()\n",
    "number = int(input(\"Enter a number: \"))\n",
    "\n",
    "starts_with_vowel = word[0] in 'aeiou'\n",
    "is_even = number % 2 == 0\n",
    "\n",
    "if starts_with_vowel and is_even:\n",
    "    print(\"Both the conditions are satisfied.\")\n",
    "elif starts_with_vowel or is_even:\n",
    "    print(\"At least one condition is satisfied.\")\n",
    "else:\n",
    "    print(\"None of the conditions are satisfied.\")\n"
   ]
  },
  {
   "cell_type": "markdown",
   "id": "bddae54f-9bbe-46d7-bfdb-0d21f55cd9ec",
   "metadata": {},
   "source": [
    "--------------------------->The End<-----------------------"
   ]
  }
 ],
 "metadata": {
  "kernelspec": {
   "display_name": "Python [conda env:pneumonia_env]",
   "language": "python",
   "name": "conda-env-pneumonia_env-py"
  },
  "language_info": {
   "codemirror_mode": {
    "name": "ipython",
    "version": 3
   },
   "file_extension": ".py",
   "mimetype": "text/x-python",
   "name": "python",
   "nbconvert_exporter": "python",
   "pygments_lexer": "ipython3",
   "version": "3.9.15"
  }
 },
 "nbformat": 4,
 "nbformat_minor": 5
}
