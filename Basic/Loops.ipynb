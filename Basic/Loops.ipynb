{
 "cells": [
  {
   "cell_type": "markdown",
   "id": "9949132c-722a-4a39-a526-26384ac6a64f",
   "metadata": {},
   "source": [
    "## Task 8  - Loops:"
   ]
  },
  {
   "cell_type": "markdown",
   "id": "2d880135-f0bf-4dc4-9d6c-6f7402acda2a",
   "metadata": {},
   "source": [
    "1. write a program that prints the numbers from 1 to 10, each on a new line."
   ]
  },
  {
   "cell_type": "code",
   "execution_count": 19,
   "id": "47943a17-fb30-4c5f-9ec6-d417a1750f1d",
   "metadata": {},
   "outputs": [
    {
     "name": "stdout",
     "output_type": "stream",
     "text": [
      "1\n",
      "2\n",
      "3\n",
      "4\n",
      "5\n",
      "6\n",
      "7\n",
      "8\n",
      "9\n",
      "10\n"
     ]
    }
   ],
   "source": [
    "for i in range(1, 11):\n",
    "    print(i)\n"
   ]
  },
  {
   "cell_type": "markdown",
   "id": "f2848b68-4099-45c2-b44a-c827dc80698c",
   "metadata": {},
   "source": [
    "2. write a program that prints the even numbers from 1 to 20, each on a new line.\n"
   ]
  },
  {
   "cell_type": "code",
   "execution_count": 21,
   "id": "05ba8a9b-dece-4cd5-9368-8e8f16865eb5",
   "metadata": {},
   "outputs": [
    {
     "name": "stdout",
     "output_type": "stream",
     "text": [
      "2\n",
      "4\n",
      "6\n",
      "8\n",
      "10\n",
      "12\n",
      "14\n",
      "16\n",
      "18\n",
      "20\n"
     ]
    }
   ],
   "source": [
    "for i in range(2, 21, 2):\n",
    "    print(i)\n"
   ]
  },
  {
   "cell_type": "markdown",
   "id": "50b77474-b3a8-4895-95cc-82b0db099ecf",
   "metadata": {},
   "source": [
    "3. Write a program that calculates and prints the square of each number from 1 to 20.\n"
   ]
  },
  {
   "cell_type": "code",
   "execution_count": 23,
   "id": "c8784330-c4b6-4657-969a-b70b231ee30e",
   "metadata": {},
   "outputs": [
    {
     "name": "stdout",
     "output_type": "stream",
     "text": [
      "1^2 = 1\n",
      "2^2 = 4\n",
      "3^2 = 9\n",
      "4^2 = 16\n",
      "5^2 = 25\n",
      "6^2 = 36\n",
      "7^2 = 49\n",
      "8^2 = 64\n",
      "9^2 = 81\n",
      "10^2 = 100\n",
      "11^2 = 121\n",
      "12^2 = 144\n",
      "13^2 = 169\n",
      "14^2 = 196\n",
      "15^2 = 225\n",
      "16^2 = 256\n",
      "17^2 = 289\n",
      "18^2 = 324\n",
      "19^2 = 361\n",
      "20^2 = 400\n"
     ]
    }
   ],
   "source": [
    "for i in range(1, 21):\n",
    "    print(f\"{i}^2 = {i*i}\")\n"
   ]
  },
  {
   "cell_type": "markdown",
   "id": "46f0b755-221d-43b7-80b3-411e5a416c00",
   "metadata": {},
   "source": [
    "4. write a program that prints the multiples of 3 from 3 to 30, each on a new line."
   ]
  },
  {
   "cell_type": "code",
   "execution_count": 25,
   "id": "7977e554-2bbc-47de-a52f-7cda9fe3050d",
   "metadata": {},
   "outputs": [
    {
     "name": "stdout",
     "output_type": "stream",
     "text": [
      "3\n",
      "6\n",
      "9\n",
      "12\n",
      "15\n",
      "18\n",
      "21\n",
      "24\n",
      "27\n",
      "30\n"
     ]
    }
   ],
   "source": [
    "for i in range(3, 31, 3):\n",
    "    print(i)\n"
   ]
  },
  {
   "cell_type": "markdown",
   "id": "7710a05a-ac25-4028-8863-0d16d875610e",
   "metadata": {},
   "source": [
    "5. Write a program that prints the numbers from 10 to 1 in descending order, each on a new line.\n"
   ]
  },
  {
   "cell_type": "code",
   "execution_count": 27,
   "id": "7090194d-4937-4532-b9e4-cd8754c92b54",
   "metadata": {},
   "outputs": [
    {
     "name": "stdout",
     "output_type": "stream",
     "text": [
      "10\n",
      "9\n",
      "8\n",
      "7\n",
      "6\n",
      "5\n",
      "4\n",
      "3\n",
      "2\n",
      "1\n"
     ]
    }
   ],
   "source": [
    "for i in range(10, 0, -1):\n",
    "    print(i)\n"
   ]
  },
  {
   "cell_type": "markdown",
   "id": "3badad97-5385-44bb-8449-d1c522ff285d",
   "metadata": {},
   "source": [
    "6. Count the number of vowels in a string using a for loop.\n",
    "s2= \"Hello World\"\n"
   ]
  },
  {
   "cell_type": "code",
   "execution_count": 29,
   "id": "2028315d-6c47-45d4-bfe0-ab57062cf6cb",
   "metadata": {},
   "outputs": [
    {
     "name": "stdout",
     "output_type": "stream",
     "text": [
      "Number of vowels: 3\n"
     ]
    }
   ],
   "source": [
    "s2 = \"Hello World\"\n",
    "vowels = \"aeiouAEIOU\"\n",
    "count = 0\n",
    "\n",
    "for char in s2:\n",
    "    if char in vowels:\n",
    "        count += 1\n",
    "\n",
    "print(\"Number of vowels:\", count)\n"
   ]
  },
  {
   "cell_type": "markdown",
   "id": "3da7fd77-1d63-42ce-9246-64533ad3ba36",
   "metadata": {},
   "source": [
    "7. Display numbers from -10 to -1 using a for loop.\n"
   ]
  },
  {
   "cell_type": "code",
   "execution_count": 31,
   "id": "e70a6de6-59d5-4e63-a793-82691ac08829",
   "metadata": {},
   "outputs": [
    {
     "name": "stdout",
     "output_type": "stream",
     "text": [
      "-10\n",
      "-9\n",
      "-8\n",
      "-7\n",
      "-6\n",
      "-5\n",
      "-4\n",
      "-3\n",
      "-2\n",
      "-1\n"
     ]
    }
   ],
   "source": [
    "for i in range(-10, 0):\n",
    "    print(i)\n"
   ]
  },
  {
   "cell_type": "markdown",
   "id": "8ff298c8-4c4c-49e9-a9a7-68f7c4cfdace",
   "metadata": {},
   "source": [
    "8. Find all prime numbers between 1 and 50 using a for loop.\n"
   ]
  },
  {
   "cell_type": "code",
   "execution_count": 33,
   "id": "efb26c7c-3750-4c9c-b72c-6c9c88f0c2f9",
   "metadata": {},
   "outputs": [
    {
     "name": "stdout",
     "output_type": "stream",
     "text": [
      "2\n",
      "3\n",
      "5\n",
      "7\n",
      "11\n",
      "13\n",
      "17\n",
      "19\n",
      "23\n",
      "29\n",
      "31\n",
      "37\n",
      "41\n",
      "43\n",
      "47\n"
     ]
    }
   ],
   "source": [
    "for num in range(2, 51):\n",
    "    for i in range(2, int(num**0.5)+1):\n",
    "        if num % i == 0:\n",
    "            break\n",
    "    else:\n",
    "        print(num)\n"
   ]
  },
  {
   "cell_type": "markdown",
   "id": "9c93fe72-f605-4bfb-84d7-6684948968c9",
   "metadata": {},
   "source": [
    "9. Print all uppercase letters in the string using a for loop.\n",
    "s = ”Innomatics Research Labs”\n"
   ]
  },
  {
   "cell_type": "code",
   "execution_count": 35,
   "id": "a83a13ac-4888-46bc-92ea-b06c123c3351",
   "metadata": {},
   "outputs": [
    {
     "name": "stdout",
     "output_type": "stream",
     "text": [
      "I\n",
      "R\n",
      "L\n"
     ]
    }
   ],
   "source": [
    "s = \"Innomatics Research Labs\"\n",
    "for char in s:\n",
    "    if char.isupper():\n",
    "        print(char)\n"
   ]
  },
  {
   "cell_type": "markdown",
   "id": "0f493482-fa61-48c0-99fa-9011920814e2",
   "metadata": {},
   "source": [
    "10. Write a program to print the first 10 even numbers using while loop\n"
   ]
  },
  {
   "cell_type": "code",
   "execution_count": 37,
   "id": "c9bc4c1d-1dfb-47a5-b12a-0513bcc2e3e9",
   "metadata": {},
   "outputs": [
    {
     "name": "stdout",
     "output_type": "stream",
     "text": [
      "2\n",
      "4\n",
      "6\n",
      "8\n",
      "10\n",
      "12\n",
      "14\n",
      "16\n",
      "18\n",
      "20\n"
     ]
    }
   ],
   "source": [
    "i = 2\n",
    "count = 0\n",
    "while count < 10:\n",
    "    print(i)\n",
    "    i += 2\n",
    "    count += 1\n"
   ]
  },
  {
   "cell_type": "markdown",
   "id": "59741c83-2a26-414d-9cb9-5fb237cd0520",
   "metadata": {},
   "source": [
    "11. Write a program to print the first 10 odd numbers using while loop\n"
   ]
  },
  {
   "cell_type": "code",
   "execution_count": 39,
   "id": "0a200511-5ac1-4757-affe-9a01a784b00f",
   "metadata": {},
   "outputs": [
    {
     "name": "stdout",
     "output_type": "stream",
     "text": [
      "1\n",
      "3\n",
      "5\n",
      "7\n",
      "9\n",
      "11\n",
      "13\n",
      "15\n",
      "17\n",
      "19\n"
     ]
    }
   ],
   "source": [
    "i = 1\n",
    "count = 0\n",
    "while count < 10:\n",
    "    print(i)\n",
    "    i += 2\n",
    "    count += 1\n"
   ]
  },
  {
   "cell_type": "markdown",
   "id": "bdea335e-5498-46e3-beca-2b3b2ce6c8e6",
   "metadata": {},
   "source": [
    "12. Write a program to print the first 10 natural numbers using while loop\n"
   ]
  },
  {
   "cell_type": "code",
   "execution_count": 41,
   "id": "21bf8059-cc46-4c40-a422-a1dd08f5c3d1",
   "metadata": {},
   "outputs": [
    {
     "name": "stdout",
     "output_type": "stream",
     "text": [
      "1\n",
      "2\n",
      "3\n",
      "4\n",
      "5\n",
      "6\n",
      "7\n",
      "8\n",
      "9\n",
      "10\n"
     ]
    }
   ],
   "source": [
    "i = 1\n",
    "while i <= 10:\n",
    "    print(i)\n",
    "    i += 1\n"
   ]
  },
  {
   "cell_type": "markdown",
   "id": "195a7d67-fcd0-42ad-ae67-fe7075f5d7e1",
   "metadata": {},
   "source": [
    "13. Write a program to print the first 10 whole numbers using while loop"
   ]
  },
  {
   "cell_type": "code",
   "execution_count": 43,
   "id": "9f898302-58b6-427c-aa8e-9f0ff0f88543",
   "metadata": {},
   "outputs": [
    {
     "name": "stdout",
     "output_type": "stream",
     "text": [
      "0\n",
      "1\n",
      "2\n",
      "3\n",
      "4\n",
      "5\n",
      "6\n",
      "7\n",
      "8\n",
      "9\n"
     ]
    }
   ],
   "source": [
    "i = 0\n",
    "while i < 10:\n",
    "    print(i)\n",
    "    i += 1\n"
   ]
  },
  {
   "cell_type": "markdown",
   "id": "acb768eb-aac0-4057-9b0e-8492047376f4",
   "metadata": {},
   "source": [
    "14. n = 5\n",
    "\n",
    "- A B C D E\n",
    "- A B C D\n",
    "- A B C\n",
    "- A B \n",
    "- A "
   ]
  },
  {
   "cell_type": "code",
   "execution_count": 45,
   "id": "95950c77-2eec-4e1a-a8eb-17e67587c22f",
   "metadata": {},
   "outputs": [
    {
     "name": "stdout",
     "output_type": "stream",
     "text": [
      "A B C D E \n",
      "A B C D \n",
      "A B C \n",
      "A B \n",
      "A \n"
     ]
    }
   ],
   "source": [
    "n = 5\n",
    "\n",
    "for i in range(n, 0, -1):\n",
    "    for j in range(i):\n",
    "        print(chr(65 + j), end=' ')\n",
    "    print()\n"
   ]
  }
 ],
 "metadata": {
  "kernelspec": {
   "display_name": "Python [conda env:pneumonia_env]",
   "language": "python",
   "name": "conda-env-pneumonia_env-py"
  },
  "language_info": {
   "codemirror_mode": {
    "name": "ipython",
    "version": 3
   },
   "file_extension": ".py",
   "mimetype": "text/x-python",
   "name": "python",
   "nbconvert_exporter": "python",
   "pygments_lexer": "ipython3",
   "version": "3.9.15"
  }
 },
 "nbformat": 4,
 "nbformat_minor": 5
}
