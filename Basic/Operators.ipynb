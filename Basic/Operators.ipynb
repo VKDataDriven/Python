{
 "cells": [
  {
   "cell_type": "markdown",
   "id": "e07409ce-5286-4434-8bca-beb9ad382ff7",
   "metadata": {},
   "source": [
    "# Task2 - Operators\n",
    "---"
   ]
  },
  {
   "cell_type": "markdown",
   "id": "f58f19d2-ef6c-43f1-a866-25492ae0b9ce",
   "metadata": {},
   "source": [
    "***1. ARITHMATIC OPERATORS***"
   ]
  },
  {
   "cell_type": "markdown",
   "id": "65521f3b-ca36-4396-a448-fd1b97620e3d",
   "metadata": {},
   "source": [
    "A. Define arithmetic operator."
   ]
  },
  {
   "cell_type": "markdown",
   "id": "4e0902b3-c403-4c62-852e-fc998d746209",
   "metadata": {},
   "source": [
    "ans\n",
    "- Arithmatics operators are basic mathematical operations on numeric values like additions, subtractions, multiplications, divisions ect.."
   ]
  },
  {
   "cell_type": "markdown",
   "id": "2eed28e4-eab1-4fed-bad2-6f4bf52af130",
   "metadata": {},
   "source": [
    "B. Create a Python script that defines two variables, num1 and num2, with any numeric values. Use arithmetic operators\n",
    "(+, -, *, /, //, %, **) to perform the following operations:\n",
    "- Add num1 and num2.\n",
    "- Subtract num2 from num1.\n",
    "- Multiply num1 and num2.\n",
    "- Divide num1 by num2.\n",
    "- Find the floor division of num1 by num2.\n",
    "- Find the remainder when dividing num1 by num2.\n",
    "- Calculate num1 raised to the power of num2.\n"
   ]
  },
  {
   "cell_type": "code",
   "execution_count": 16,
   "id": "77d8aeb8-7e9e-4727-8e88-52443c143120",
   "metadata": {},
   "outputs": [
    {
     "data": {
      "text/plain": [
       "15"
      ]
     },
     "execution_count": 16,
     "metadata": {},
     "output_type": "execute_result"
    }
   ],
   "source": [
    "# Add num1 and num2\n",
    "num1 = 5\n",
    "num2 =10\n",
    "num3 = num1 + num2\n",
    "num3"
   ]
  },
  {
   "cell_type": "code",
   "execution_count": 20,
   "id": "90f411fa-1d4c-4cf8-85b0-3ad39d3e56ed",
   "metadata": {},
   "outputs": [
    {
     "data": {
      "text/plain": [
       "2"
      ]
     },
     "execution_count": 20,
     "metadata": {},
     "output_type": "execute_result"
    }
   ],
   "source": [
    "# Subtract num2 from num1\n",
    "num1 = 7\n",
    "num2 = 9\n",
    "num3 = num2 - num1\n",
    "num3"
   ]
  },
  {
   "cell_type": "code",
   "execution_count": 22,
   "id": "c49923dc-60c5-46f1-80e5-4dd3c64701c9",
   "metadata": {},
   "outputs": [
    {
     "data": {
      "text/plain": [
       "12"
      ]
     },
     "execution_count": 22,
     "metadata": {},
     "output_type": "execute_result"
    }
   ],
   "source": [
    "# Multiply num1 and num2\n",
    "num1 = 2\n",
    "num2 = 6\n",
    "num3 = num1 * num2\n",
    "num3"
   ]
  },
  {
   "cell_type": "code",
   "execution_count": 26,
   "id": "f955ad86-571e-47d1-aff2-6e7be958b2cf",
   "metadata": {},
   "outputs": [
    {
     "data": {
      "text/plain": [
       "3"
      ]
     },
     "execution_count": 26,
     "metadata": {},
     "output_type": "execute_result"
    }
   ],
   "source": [
    "# Divide num1 by num2\n",
    "num1 = 9\n",
    "num2 = 3\n",
    "num3 =num1 / num2\n",
    "num3"
   ]
  },
  {
   "cell_type": "code",
   "execution_count": 30,
   "id": "81dad90c-41bd-454d-b3d0-f3897a823019",
   "metadata": {},
   "outputs": [
    {
     "name": "stdout",
     "output_type": "stream",
     "text": [
      "5\n"
     ]
    }
   ],
   "source": [
    "# Find the floor division of num1 by num2\n",
    "num1 = 25\n",
    "num2 = 5\n",
    "print(num1//num2)"
   ]
  },
  {
   "cell_type": "code",
   "execution_count": 36,
   "id": "54d4f776-20c4-4e3f-8435-2e37b4307bfd",
   "metadata": {},
   "outputs": [
    {
     "name": "stdout",
     "output_type": "stream",
     "text": [
      "4\n"
     ]
    }
   ],
   "source": [
    "# find the remainder when devided num1 by num2\n",
    "num1 = 24\n",
    "num2 = 5\n",
    "print(num1%num2)"
   ]
  },
  {
   "cell_type": "code",
   "execution_count": 38,
   "id": "82627ecc-dfb8-4675-b94c-dcc17553326d",
   "metadata": {},
   "outputs": [
    {
     "name": "stdout",
     "output_type": "stream",
     "text": [
      "8\n"
     ]
    }
   ],
   "source": [
    "# Calculate the num1 raised to the power of num2\n",
    "num1 = 2\n",
    "num2 = 3\n",
    "print(num1**num2)\n"
   ]
  },
  {
   "cell_type": "markdown",
   "id": "31b0454b-1d93-47ea-b9a5-5cc71bc0d9e0",
   "metadata": {},
   "source": [
    "---\n",
    "***2. Logical Operators***"
   ]
  },
  {
   "cell_type": "markdown",
   "id": "fafa2629-9ee1-424d-89d7-e83fcf639c3c",
   "metadata": {},
   "source": [
    "A. Define Logical Operator.\n",
    "\n",
    "\n",
    "\n",
    "\n",
    "\n"
   ]
  },
  {
   "cell_type": "markdown",
   "id": "457fa74c-d91b-4abe-ae6b-10e760f6dfbb",
   "metadata": {},
   "source": [
    "ans\n",
    "- Logical Operators are used to conditional statements. the three logical operators are and,or, and not"
   ]
  },
  {
   "cell_type": "code",
   "execution_count": 64,
   "id": "b20a3a7a-4c43-41df-822d-220c98529ff0",
   "metadata": {},
   "outputs": [
    {
     "name": "stdout",
     "output_type": "stream",
     "text": [
      "Sunny and warm False\n",
      "Sunny or Warm True\n",
      "Not Sunny False\n"
     ]
    }
   ],
   "source": [
    "# B. Create a Python script that defines two Boolean variables, is_sunny and is_warm, with appropriate values (True or False).\n",
    "\n",
    "is_sunny = True\n",
    "is_warm = False\n",
    "\n",
    "# Use logical operators (and, or, not) to create the following conditions:\n",
    "\n",
    "# Check if it's both sunny and warm and print the result.\n",
    "print(\"Sunny and warm\", is_sunny and is_warm)\n",
    "\n",
    "# Check if it's either sunny or warm and print the result.\n",
    "print(\"Sunny or Warm\", is_sunny or is_warm)\n",
    "\n",
    "# Check if it's not sunny and print the result.\n",
    "print(\"Not Sunny\", not is_sunny)"
   ]
  },
  {
   "cell_type": "markdown",
   "id": "fa70eeb4-6e1a-420b-8849-702f8dbfc25f",
   "metadata": {},
   "source": [
    "---\n",
    "***3. COMPARATIVE OPERATORS:***"
   ]
  },
  {
   "cell_type": "markdown",
   "id": "0beb1bd0-435a-4868-a592-cc260b8e84a4",
   "metadata": {},
   "source": [
    "A. Define Comparative Operator. "
   ]
  },
  {
   "cell_type": "markdown",
   "id": "43c4762d-ef5c-40b7-82b9-1b116e83a848",
   "metadata": {},
   "source": [
    "ans\n",
    "- It is used compare the two values"
   ]
  },
  {
   "cell_type": "code",
   "execution_count": 72,
   "id": "d93ea056-6eac-42f1-a233-901b49b418d4",
   "metadata": {},
   "outputs": [
    {
     "name": "stdout",
     "output_type": "stream",
     "text": [
      "a == b False\n",
      "a != b True\n",
      "a < b False\n",
      "a > b True\n",
      "a <= b False\n",
      "a >= b True\n"
     ]
    }
   ],
   "source": [
    "# B. Create a Python script that defines two variables, a and b, with any numeric values.\n",
    "a = 10\n",
    "b = 5\n",
    "# Use comparative operators (==, !=, <, >, <=, >=) to create the following conditions\n",
    "# - Check if a is equal to b and print the result.\n",
    "print(\"a == b\", a==b)\n",
    "\n",
    "# - Check if a is not equal to b and print the result.\n",
    "print(\"a != b\", a!=b)\n",
    "\n",
    "# - Check if a is less than b and print the result.\n",
    "print(\"a < b\", a<b)\n",
    "\n",
    "# - Check if a is greater than b and print the result.\n",
    "print(\"a > b\", a>b)\n",
    "\n",
    "# - Check if a is less than or equal to b and print the result.\n",
    "print(\"a <= b\", a<=b)\n",
    "\n",
    "# - Check if a is greater than or equal to b and print the result.\n",
    "print(\"a >= b\", a>=b)"
   ]
  },
  {
   "cell_type": "markdown",
   "id": "76a9135e-d61e-4449-832f-4a025bddd979",
   "metadata": {},
   "source": [
    "---\n",
    "***4. Identity Operators:***"
   ]
  },
  {
   "cell_type": "code",
   "execution_count": 74,
   "id": "4a22ab80-0e03-479d-87ea-4fa13af6c8d1",
   "metadata": {},
   "outputs": [
    {
     "name": "stdout",
     "output_type": "stream",
     "text": [
      "True\n",
      "False\n"
     ]
    }
   ],
   "source": [
    "#A. What will be the output of the following code?\n",
    "\n",
    "a = 10\n",
    "b = 10\n",
    "print(a is b)\n",
    "print(a is not b)\n"
   ]
  },
  {
   "cell_type": "code",
   "execution_count": 76,
   "id": "7b57aaa0-01a3-48d5-8e98-2cd13e84b523",
   "metadata": {},
   "outputs": [],
   "source": [
    "list1 = [1, 2, 3]\n",
    "list2 = [1, 2, 3]\n",
    "#Is list1 is list2 True or False? Why?"
   ]
  },
  {
   "cell_type": "code",
   "execution_count": 80,
   "id": "f2104086-3ecf-48e7-82ab-d762a92d73c7",
   "metadata": {},
   "outputs": [
    {
     "name": "stdout",
     "output_type": "stream",
     "text": [
      "Is list1 is list2 True or False:  False\n"
     ]
    }
   ],
   "source": [
    "print(\"Is list1 is list2 True or False: \", list1 is list2)"
   ]
  },
  {
   "cell_type": "markdown",
   "id": "6c681114-7d69-440f-8d21-a772a8a4e1e5",
   "metadata": {},
   "source": [
    "- ***is*** checks whether two varibles refer to the same object in memory\n",
    "- ***==*** checks whether two variables have the same value."
   ]
  },
  {
   "cell_type": "code",
   "execution_count": 86,
   "id": "43ef7f7d-c3de-4bba-ba6a-0a313a5ebc26",
   "metadata": {},
   "outputs": [
    {
     "name": "stdout",
     "output_type": "stream",
     "text": [
      "b is a:  True\n",
      "a == c:  True\n",
      "a is c:  True\n"
     ]
    }
   ],
   "source": [
    "#What is the difference between == and is operators in Python? Provide an example for each.\n",
    "a = 'vamshi'\n",
    "b = a\n",
    "print(\"b is a: \",b is a)\n",
    "c = 'vamshi'\n",
    "print(\"a == c: \", a == c)\n",
    "print(\"a is c: \", a is c)"
   ]
  },
  {
   "cell_type": "markdown",
   "id": "872f2fb2-9bd8-40ad-b872-c2e5ced7e003",
   "metadata": {},
   "source": [
    "---\n",
    "***5. Assignment Operators:***"
   ]
  },
  {
   "cell_type": "code",
   "execution_count": 88,
   "id": "bb6f5e8a-ca51-400c-be66-2ef7cea57847",
   "metadata": {},
   "outputs": [
    {
     "name": "stdout",
     "output_type": "stream",
     "text": [
      "6\n"
     ]
    }
   ],
   "source": [
    "# What will be the value of x after the following operations?\n",
    "x = 5\n",
    "x += 3\n",
    "x -= 2\n",
    "print(x)"
   ]
  },
  {
   "cell_type": "markdown",
   "id": "1661b629-f3ca-41f0-b9ed-000ae2f45470",
   "metadata": {},
   "source": [
    "---\n",
    "# 6. Membership Operators:"
   ]
  },
  {
   "cell_type": "code",
   "execution_count": 91,
   "id": "a6ac4e7c-d00e-41a6-b9cb-a6ee32e66cb5",
   "metadata": {},
   "outputs": [
    {
     "name": "stdout",
     "output_type": "stream",
     "text": [
      "True\n",
      "True\n"
     ]
    }
   ],
   "source": [
    "# What will be the result of the following expression?\n",
    "lst = [10, 20, 30, 40]\n",
    "print(30 in lst)\n",
    "print(50 not in lst)\n"
   ]
  },
  {
   "cell_type": "code",
   "execution_count": 93,
   "id": "7ffead8d-51e0-4b2c-b3cd-e946352e05b5",
   "metadata": {},
   "outputs": [
    {
     "name": "stdout",
     "output_type": "stream",
     "text": [
      "True\n"
     ]
    }
   ],
   "source": [
    "# How does the not in operator work in Python? Provide an example with a string.\n",
    "name = \"Mariaknti Vamshi\"\n",
    "print(\"krishna\" not in name)"
   ]
  },
  {
   "cell_type": "markdown",
   "id": "0983f6d7-509c-418b-ad0e-3c29ee7f3d9b",
   "metadata": {},
   "source": [
    "- ***not in*** operator checks whether values is not there in a sequence (like lists, tup), it returns True if the value is absent, and False if the value is present "
   ]
  },
  {
   "cell_type": "markdown",
   "id": "87e7c52e-5025-459a-a07b-60b25001ba19",
   "metadata": {},
   "source": [
    "---\n",
    "# 7. Bitwise Operators:"
   ]
  },
  {
   "cell_type": "code",
   "execution_count": 98,
   "id": "4c81189d-77cb-4dd6-aa60-655ec3c591d6",
   "metadata": {},
   "outputs": [
    {
     "name": "stdout",
     "output_type": "stream",
     "text": [
      "2\n"
     ]
    }
   ],
   "source": [
    "#What will be the output of the following code?\n",
    "a = 6 \n",
    "b = 3\n",
    "print(a & b)                                                                                                           "
   ]
  },
  {
   "cell_type": "code",
   "execution_count": 102,
   "id": "e22872a1-aa62-4028-acf8-0c97a4966fce",
   "metadata": {},
   "outputs": [
    {
     "name": "stdout",
     "output_type": "stream",
     "text": [
      "13\n"
     ]
    }
   ],
   "source": [
    "#Convert the decimal numbers 5 and 9 to binary and perform the bitwise OR (|) operation on them. What is the result in decimal?\n",
    "# 5 = 0101\n",
    "# 9 = 1001\n",
    "# 0101 | 1001 = 1101 => 13\n",
    "print(5 | 9)  # 13"
   ]
  },
  {
   "cell_type": "code",
   "execution_count": null,
   "id": "34350ae3-39cc-409c-bee9-6cdc4727d5dc",
   "metadata": {},
   "outputs": [],
   "source": []
  },
  {
   "cell_type": "markdown",
   "id": "38148d7a-a9cc-468c-99a1-496132949748",
   "metadata": {},
   "source": [
    "Explain the difference between the bitwise left shift (<<) and right shift (>>) operators in Python. Provide an example for each.\n",
    "\n",
    "- << (Left Shift): Shifts the bits of a number to the left, adding zeros on the right.\n",
    "It multiplies the number by 2 for each shift.\n",
    "\n",
    "-  > '>>(Right Shift):' Shifts the bits of a number to the right, discarding bits on the right.\n",
    "It divides the number by 2 for each shift (ignoring decimals/floor division)."
   ]
  },
  {
   "cell_type": "markdown",
   "id": "cf630be6-bbcd-4a1d-bdd5-30f5db11af46",
   "metadata": {},
   "source": [
    "'>> (Right Shift)'"
   ]
  },
  {
   "cell_type": "code",
   "execution_count": 104,
   "id": "09881f3b-f607-49ff-a5dc-6cff1dc5b4f9",
   "metadata": {},
   "outputs": [
    {
     "name": "stdout",
     "output_type": "stream",
     "text": [
      "8\n",
      "2\n"
     ]
    }
   ],
   "source": [
    "# Example\n",
    "x = 4  # Binary: 100\n",
    "print(x << 1)  \n",
    "print(x >> 1)  \n"
   ]
  },
  {
   "cell_type": "markdown",
   "id": "cba64f07-27d4-473f-8483-cfba07e03601",
   "metadata": {},
   "source": [
    "---------------------------------------------------------------***The End!***-----------------------------------------------"
   ]
  }
 ],
 "metadata": {
  "kernelspec": {
   "display_name": "Python [conda env:pneumonia_env]",
   "language": "python",
   "name": "conda-env-pneumonia_env-py"
  },
  "language_info": {
   "codemirror_mode": {
    "name": "ipython",
    "version": 3
   },
   "file_extension": ".py",
   "mimetype": "text/x-python",
   "name": "python",
   "nbconvert_exporter": "python",
   "pygments_lexer": "ipython3",
   "version": "3.9.15"
  }
 },
 "nbformat": 4,
 "nbformat_minor": 5
}
