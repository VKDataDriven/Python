{
 "cells": [
  {
   "cell_type": "markdown",
   "id": "6860a647-cd04-4a68-88e5-fccc91e65b32",
   "metadata": {},
   "source": [
    "## Task 5 - Sets"
   ]
  },
  {
   "cell_type": "markdown",
   "id": "6ed1e528-1033-4ec8-b98d-a18ed2c793c0",
   "metadata": {},
   "source": [
    "1. Set Creation Create a Python set containing the first 10 even numbers {2, 4, 6,8,10}. Write a program to display this set.\n"
   ]
  },
  {
   "cell_type": "code",
   "execution_count": 8,
   "id": "901708ae-730d-4f5e-a180-501e027b7b3e",
   "metadata": {},
   "outputs": [
    {
     "name": "stdout",
     "output_type": "stream",
     "text": [
      "{2, 4, 6, 8, 10}\n"
     ]
    }
   ],
   "source": [
    "even_number = {2,4,6,8,10}\n",
    "print('Even_numbers: ',even_number)"
   ]
  },
  {
   "cell_type": "markdown",
   "id": "3aca299e-f2c4-4a0d-8752-527250cc0610",
   "metadata": {},
   "source": [
    "2. Set Operations Given two sets, write a Python program to find the union, intersection, and difference of these sets.\n"
   ]
  },
  {
   "cell_type": "code",
   "execution_count": 12,
   "id": "f3fc4817-e316-46f0-b8a0-61c0f0694ad7",
   "metadata": {},
   "outputs": [
    {
     "name": "stdout",
     "output_type": "stream",
     "text": [
      "Union:  {1, 2, 3, 4, 5, 6}\n",
      "Intersection:  {3, 4}\n",
      "Difference:  {1, 2}\n"
     ]
    }
   ],
   "source": [
    "s1 = {1,2,3,4}\n",
    "s2 = {3,4,5,6}\n",
    "\n",
    "#Union\n",
    "print('Union: ', s1 | s2)\n",
    "\n",
    "#Intersection\n",
    "print('Intersection: ', s1 & s2)\n",
    "\n",
    "#Difference\n",
    "print('Difference: ', s1 - s2)\n"
   ]
  },
  {
   "cell_type": "markdown",
   "id": "02a748ed-028e-4391-bb22-8fa6e6afc259",
   "metadata": {},
   "source": [
    "3. Set Operations and Methods Write a Python program that takes a set of numbers and performs the following operations:\n",
    "- Add a new number to the set.\n",
    "- Remove a number from the set.\n",
    "- Check if a specific number is in the set.\n",
    "- Find the size of the set.\n"
   ]
  },
  {
   "cell_type": "code",
   "execution_count": 30,
   "id": "345b869b-8c19-45ba-af6d-b4f69a39491c",
   "metadata": {},
   "outputs": [
    {
     "name": "stdout",
     "output_type": "stream",
     "text": [
      "After Adding the 6 number to the set:  {1, 2, 3, 4, 5, 6}\n",
      "\n",
      "After Removing the element from the set None\n",
      "\n",
      "checking 4 is in the set:  True\n",
      "\n",
      "Length of the Set:  5\n"
     ]
    }
   ],
   "source": [
    "s3 = {5,4,3,2,1}\n",
    "s3.add(6)\n",
    "print(\"After Adding the 6 number to the set: \",s3)\n",
    "print(\"\\nAfter Removing the element from the set\",s3.remove(5))\n",
    "print(\"\\nchecking 4 is in the set: \", 4 in s3)\n",
    "print(\"\\nLength of the Set: \",len(s3))"
   ]
  },
  {
   "cell_type": "markdown",
   "id": "c949b91f-90f3-4117-8072-2f2f163c8062",
   "metadata": {},
   "source": [
    "4. Set Operations with Lists Create a Python list with duplicate elements and convert it into a set to remove duplicates. Then, write a program to count how many duplicates were removed.\n"
   ]
  },
  {
   "cell_type": "code",
   "execution_count": 44,
   "id": "1570cc80-ab0a-4303-baff-77cdfe9d4960",
   "metadata": {},
   "outputs": [
    {
     "name": "stdout",
     "output_type": "stream",
     "text": [
      "List to Set:  {1, 2, 3, 4, 5, 6}\n",
      "\n",
      "Number of duplicates removed from list: 7\n"
     ]
    }
   ],
   "source": [
    "l=[1,1,1,2,2,3,3,4,4,5,5,6,6]\n",
    "s4 =set(l)\n",
    "print('List to Set: ',s4)\n",
    "print('\\nNumber of duplicates removed from list:', len(l) - len(s4))"
   ]
  },
  {
   "cell_type": "markdown",
   "id": "359b3f43-03ee-45ea-9189-dbb49247a9a5",
   "metadata": {},
   "source": [
    "5. Explain the concept of Sets and their properties in Python. Provide a one-line definition of each set method with examples.\n"
   ]
  },
  {
   "cell_type": "markdown",
   "id": "ee3d0458-cf13-4abc-91a1-86990e2c9450",
   "metadata": {},
   "source": [
    "Ans\n",
    "> Sets is an unordered, mutable, and indexed collection of unique elements\n",
    "\n",
    "***Properties***\n",
    "- No duplicates\n",
    "- unordered\n",
    "- can't indexed or sliced\n",
    "- can be modified (Add, Remove)\n",
    "- Supports mathematical set Operations"
   ]
  },
  {
   "cell_type": "markdown",
   "id": "95b4ecc0-c1ce-4e48-b5f9-9e226793f1c5",
   "metadata": {},
   "source": [
    "### Set methods and one line explanation"
   ]
  },
  {
   "cell_type": "markdown",
   "id": "209f93a1-4f87-4805-87c1-f078cde75003",
   "metadata": {},
   "source": [
    "- ***Add(X)***: Add element x to the set\n",
    "- ***Remove(X)***: Remove the element x from the set, if not present raise one error\n",
    "- ***discard(X)***: Remove the element x from the set, if not present raise one error\n",
    "- ***pop(X)***: Remove the element and return the ramdom element\n",
    "- ***discard(X)***:Remove the element x from the set, if not present raise one error\n",
    "- ***clear(X)***: Remove all elements from the set\n",
    "- ***union(X)***: Returns the union of two sets\n",
    "- ***intersection(X)***: Returns the union of two sets\n",
    "- ***difference(X)***: Retuns elements in A but not in B\n",
    "- ***copy()***: Return the shallow copy of set"
   ]
  }
 ],
 "metadata": {
  "kernelspec": {
   "display_name": "Python [conda env:pneumonia_env]",
   "language": "python",
   "name": "conda-env-pneumonia_env-py"
  },
  "language_info": {
   "codemirror_mode": {
    "name": "ipython",
    "version": 3
   },
   "file_extension": ".py",
   "mimetype": "text/x-python",
   "name": "python",
   "nbconvert_exporter": "python",
   "pygments_lexer": "ipython3",
   "version": "3.9.15"
  }
 },
 "nbformat": 4,
 "nbformat_minor": 5
}
