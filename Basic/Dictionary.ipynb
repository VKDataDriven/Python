{
 "cells": [
  {
   "cell_type": "markdown",
   "id": "04a16cd6-ae0a-42e8-909a-fe9a0d4bf841",
   "metadata": {},
   "source": [
    "## Task - 6 Dictionary"
   ]
  },
  {
   "cell_type": "markdown",
   "id": "89aaa368-d086-459c-8d94-08315c7e9923",
   "metadata": {},
   "source": [
    "1. Define Dictionary, its properties.\n"
   ]
  },
  {
   "cell_type": "markdown",
   "id": "3c07bb64-0f7a-4c28-870c-05c655745ff6",
   "metadata": {},
   "source": [
    "#### Dictionary:\n",
    "- A dictionary in Python is a collection of key-value pairs. Each key must be unique and immutable (e.g., strings, numbers, tuples), while values can be of any data type. "
   ]
  },
  {
   "cell_type": "markdown",
   "id": "2ac87bb9-b863-4f21-a78d-6bb0825cf196",
   "metadata": {},
   "source": [
    "#### properties\n",
    "- Unordered\n",
    "- Mutable\n",
    "- Indexed by keys\n",
    "- Keys are unique\n",
    "- Values can be duplicate"
   ]
  },
  {
   "cell_type": "markdown",
   "id": "992851c6-7175-4eba-ac7d-8f10bab82f76",
   "metadata": {},
   "source": [
    "2. Explore all the methods in the dictionary and write example for each method"
   ]
  },
  {
   "cell_type": "code",
   "execution_count": 34,
   "id": "ea6c3ade-f4e7-4b3a-9ed2-6a75b092ae7c",
   "metadata": {},
   "outputs": [
    {
     "name": "stdout",
     "output_type": "stream",
     "text": [
      "First_name:  Vamshi\n",
      "Keys are:  dict_keys(['First_Name', 'Last_name', 'Age', 'Gender'])\n",
      "Values:  dict_values(['Vamshi', 'Krishna', 27, 'M'])\n",
      "Items are:  dict_items([('First_Name', 'Vamshi'), ('Last_name', 'Krishna'), ('Age', 27), ('Gender', 'M')])\n",
      "After upodated age:  {'First_Name': 'Vamshi', 'Last_name': 'Krishna', 'Age': 23, 'Gender': 'M'}\n",
      "after pop operation: {'First_Name': 'Vamshi', 'Last_name': 'Krishna', 'Age': 23}\n",
      "After pop item: {'First_Name': 'Vamshi', 'Last_name': 'Krishna'}\n",
      "After set default:  {'First_Name': 'Vamshi', 'Last_name': 'Krishna', 'City': 'Hyderabad'}\n",
      "After copied the:  {'First_Name': 'Vamshi', 'Last_name': 'Krishna', 'City': 'Hyderabad'}\n",
      "After cleared the dictionary is:  {}\n"
     ]
    }
   ],
   "source": [
    "details = {'First_Name' : 'Vamshi', 'Last_name': 'Krishna', 'Age': 27, 'Gender': 'M'}\n",
    "\n",
    "# Getting the Key Value\n",
    "print('First_name: ',details.get('First_Name'))\n",
    "\n",
    "#printing keys\n",
    "print('Keys are: ',details.keys())\n",
    "\n",
    "#print values\n",
    "print('Values: ', details.values())\n",
    "\n",
    "#print items\n",
    "print('Items are: ', details.items())\n",
    "\n",
    "# update\n",
    "details.update({'Age':23})\n",
    "print('After upodated age: ',details)\n",
    "\n",
    "#POP\n",
    "details.pop('Gender')\n",
    "print('after pop operation:',details)\n",
    "\n",
    "#POP Item\n",
    "details.popitem()\n",
    "print('After pop item:', details)\n",
    "\n",
    "#SetDefault\n",
    "details.setdefault(\"City\",\"Hyderabad\")\n",
    "print(\"After set default: \",details)\n",
    "\n",
    "#copy()\n",
    "c_details = details.copy()\n",
    "print(\"After copied the: \", c_details)\n",
    "\n",
    "#Clear()\n",
    "details.clear()\n",
    "print(\"After cleared the dictionary is: \", details)"
   ]
  },
  {
   "cell_type": "markdown",
   "id": "1181beff-f8a9-4ec1-9db4-4da70b3640b5",
   "metadata": {},
   "source": [
    "3. Create a Python program that defines a dictionary to store information about your favorite book. Include the title, author, publication year, and genre as key-value pairs. Print out the dictionary.and do at least 5 dictionary methods on it.\n"
   ]
  },
  {
   "cell_type": "code",
   "execution_count": 53,
   "id": "0ddcdfa2-2cfa-4b30-be97-5011df625cc5",
   "metadata": {},
   "outputs": [
    {
     "name": "stdout",
     "output_type": "stream",
     "text": [
      "Book Information:  {'tile': 'Na savu nin sasta', 'author': 'Vamshi', 'publication_year': 2030, 'genre': 'frustation'}\n",
      "\n",
      "Keys:  dict_keys(['tile', 'author', 'publication_year', 'genre'])\n",
      "\n",
      "Values:  dict_values(['Na savu nin sasta', 'Vamshi', 2030, 'frustation'])\n",
      "\n",
      "After updated Book:  {'tile': 'Na savu nin sasta', 'author': 'Vamshi', 'publication_year': 2030, 'genre': 'frustation', 'Pages': 100}\n",
      "\n",
      "get author:  Vamshi\n",
      "\n",
      "Items:  dict_items([('tile', 'Na savu nin sasta'), ('author', 'Vamshi'), ('publication_year', 2030), ('genre', 'frustation'), ('Pages', 100)])\n"
     ]
    }
   ],
   "source": [
    "favorite_books = {\"tile\": \"Na savu nin sasta\" ,\"author\": \"Vamshi\" ,\"publication_year\":2030 ,\"genre\": \"frustation\"}\n",
    "\n",
    "#Books Information\n",
    "print('Book Information: ',favorite_books)\n",
    "\n",
    "#Dictionary methods\n",
    "print('\\nKeys: ', favorite_books.keys())\n",
    "print('\\nValues: ',favorite_books.values())\n",
    "favorite_books.update({'Pages':100})\n",
    "print('\\nAfter updated Book: ',favorite_books)\n",
    "print('\\nget author: ', favorite_books.get('author'))\n",
    "print(\"\\nItems: \",favorite_books.items())"
   ]
  },
  {
   "cell_type": "markdown",
   "id": "1537c12b-16f1-403e-b669-4da9796685ba",
   "metadata": {},
   "source": [
    "4. Write a Python program that simulates a simple dictionary for translating English words to Spanish. Define a dictionary containing a few English words as keys and their corresponding Spanish translations as values. Allow users to enter an English word, and then display its Spanish translation if it exists in the dictionary.(use google for English to Spanish translator)\n"
   ]
  },
  {
   "cell_type": "code",
   "execution_count": 71,
   "id": "89e079c6-4cbb-40a2-812a-743c4f71f49e",
   "metadata": {},
   "outputs": [
    {
     "name": "stdin",
     "output_type": "stream",
     "text": [
      "Enter in English here:  hello\n"
     ]
    },
    {
     "name": "stdout",
     "output_type": "stream",
     "text": [
      "the spanish word for hello is Hola.\n"
     ]
    }
   ],
   "source": [
    "translator = {\"hello\":\"Hola\", \"hi\":\"Hola\", \"what's up\":\"qué pasa\", \"ok\":\"ok\",\"nice to meet you\":\"Encantado de conocerte\"}\n",
    "\n",
    "user_input = input(\"Enter in English here: \").lower()\n",
    "translator = translator.get(user_input)\n",
    "if translator:\n",
    "    print(f\"the spanish word for {user_input} is {translator}.\")\n",
    "else:\n",
    "    print(f\"{user_input} is not there in dictionary\")\n"
   ]
  },
  {
   "cell_type": "markdown",
   "id": "2d6122e6-bac9-41cb-8f05-3afc6f467778",
   "metadata": {},
   "source": [
    "5. Create a Python program that stores the grades of five students in a dictionary. Calculate and display the average grade of the students."
   ]
  },
  {
   "cell_type": "code",
   "execution_count": 77,
   "id": "3c57f2b5-be0e-4b2d-8675-93c109e19058",
   "metadata": {},
   "outputs": [
    {
     "name": "stdout",
     "output_type": "stream",
     "text": [
      "Average grade of the students is  66.8\n"
     ]
    }
   ],
   "source": [
    "student_grade = {\"Vamshi\": 90,\"Harika\": 35,\"krishna\":80,\"virat\":99,\"nageshwari\":30}\n",
    "marks = student_grade.values()\n",
    "print('Average grade of the students is ', sum(marks)/len(student_grade))"
   ]
  },
  {
   "cell_type": "markdown",
   "id": "5552dd43-381f-4b87-adde-42c33ad271d4",
   "metadata": {},
   "source": [
    "6. Build a basic contact list using a dictionary. Users should also be able to search for contacts by name and display their phone numbers."
   ]
  },
  {
   "cell_type": "code",
   "execution_count": 86,
   "id": "59ac4c77-bb76-4647-a043-e12881b490ba",
   "metadata": {},
   "outputs": [
    {
     "name": "stdin",
     "output_type": "stream",
     "text": [
      "Enter Name for there number: Vamshi\n"
     ]
    },
    {
     "name": "stdout",
     "output_type": "stream",
     "text": [
      "Vamshi number is 8919337324\n"
     ]
    }
   ],
   "source": [
    "contacts = {\"Vamshi\":8919337324,\"krishna\":7995494592,\"Baby\":9908248692,\"kaveri\":9908220218}\n",
    "name = input(\"Enter Name for there number:\")\n",
    "\n",
    "if name in contacts:\n",
    "    print(f'{name} number is {contacts[name]}')\n",
    "else:\n",
    "    print('Not available')"
   ]
  },
  {
   "cell_type": "markdown",
   "id": "f95082cc-513d-46ee-952c-df7399e50e2d",
   "metadata": {},
   "source": [
    "7. Write a Python program that defines a dictionary containing the names of fruits as keys and their corresponding colors as values (e.g., 'apple': 'red'). Do at least 5 dictionary methods on it (except the methods which are used for the 3rd question)"
   ]
  },
  {
   "cell_type": "code",
   "execution_count": 100,
   "id": "529d0245-53b0-45eb-b9ad-7e79a5138756",
   "metadata": {},
   "outputs": [
    {
     "name": "stdout",
     "output_type": "stream",
     "text": [
      "After Pop Element from fruits {'Apple': 'red', 'safota': 'brown', 'Banana': 'Yellow'}\n",
      "afet popitem {'Apple': 'red', 'safota': 'brown'}\n",
      "copy of the fruits {'Apple': 'red', 'safota': 'brown'}\n",
      "after cleared fruits {}\n",
      "After setting up default Element {'Apple': 'red', 'safota': 'brown', 'lemon': 'green'}\n"
     ]
    }
   ],
   "source": [
    "fruits = {\"Apple\":\"red\",\"Orange\":\"Orange\",\"safota\":\"brown\",\"Banana\":\"Yellow\"}\n",
    "\n",
    "# Method1\n",
    "fruits.pop(\"Orange\")\n",
    "print('After Pop Element from fruits',fruits)\n",
    "\n",
    "# Method2\n",
    "fruits.popitem()\n",
    "print('afet popitem',fruits)\n",
    "\n",
    "# Method3\n",
    "copy_fruits = fruits.copy()\n",
    "print('copy of the fruits',copy_fruits)\n",
    "\n",
    "# Method4\n",
    "fruits.clear()\n",
    "print('after cleared fruits',fruits)\n",
    "\n",
    "# Method5\n",
    "copy_fruits.setdefault(\"lemon\",\"green\")\n",
    "print('After setting up default Element',copy_fruits)"
   ]
  },
  {
   "cell_type": "markdown",
   "id": "d09f36a9-f9df-4459-acfd-1191131fb598",
   "metadata": {},
   "source": [
    "## ---------------------The End!------------------------"
   ]
  },
  {
   "cell_type": "code",
   "execution_count": 102,
   "id": "af145591-6f91-4c05-8243-0a7aff28688f",
   "metadata": {},
   "outputs": [
    {
     "data": {
      "text/plain": [
       "'Vamshi'"
      ]
     },
     "execution_count": 102,
     "metadata": {},
     "output_type": "execute_result"
    }
   ],
   "source": [
    "X = 'Vamshi'\n",
    "X"
   ]
  }
 ],
 "metadata": {
  "kernelspec": {
   "display_name": "Python [conda env:pneumonia_env]",
   "language": "python",
   "name": "conda-env-pneumonia_env-py"
  },
  "language_info": {
   "codemirror_mode": {
    "name": "ipython",
    "version": 3
   },
   "file_extension": ".py",
   "mimetype": "text/x-python",
   "name": "python",
   "nbconvert_exporter": "python",
   "pygments_lexer": "ipython3",
   "version": "3.9.15"
  }
 },
 "nbformat": 4,
 "nbformat_minor": 5
}
