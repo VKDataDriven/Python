{
 "cells": [
  {
   "cell_type": "markdown",
   "id": "fc306d58-f001-487f-87c1-02dad6c5c6ec",
   "metadata": {},
   "source": [
    "## Task1 - Variables\n",
    "---"
   ]
  },
  {
   "cell_type": "markdown",
   "id": "d1416cb3-7bae-44ef-bc1a-528718457951",
   "metadata": {},
   "source": [
    "Using **Markdown** Answering the below questions"
   ]
  },
  {
   "cell_type": "markdown",
   "id": "70d1be20-da6c-4ee4-87a9-17a0aa5ad040",
   "metadata": {},
   "source": [
    "1. what is **Python**? How would you explain its key features and characteristics?\n",
    "- Python is High level programming language easy to understand and it's open source easy installation as well as easy access\n",
    "- it's interpeter convert the high level code into machine level\n",
    "- Easy to learn and use\n",
    "- Extensive libraries available in open source\n",
    "- Object Orientation supports\n",
    "- Expecption Handling also"
   ]
  },
  {
   "cell_type": "markdown",
   "id": "3a05c995-9ba5-4d8c-83d2-a14017d2a5bd",
   "metadata": {},
   "source": [
    "2. List and explain some Common Application of the python\n",
    "- **Web Development**\n",
    "      : Django Frame work is used for Web Development as back end source for handling data objects and website functionality\n",
    "- **Data Science**\n",
    "    : Data cleaning, handling the missing values, preparing the machine learning models\n",
    "- **Server scripting**\n",
    "    : Some Automating tasks by using the python scripts\n",
    "- **Mathematical Calculations**\n",
    "    : by using the numpy package we can do lot of mathematical and scientific calculations at any point"
   ]
  },
  {
   "cell_type": "markdown",
   "id": "202fe3ed-1a49-4dd6-86fb-5982c1959c92",
   "metadata": {},
   "source": [
    "3. Discuss the advantages and disadvantages of using python as a programming language.\n",
    "- **Advantages**\n",
    "  - simple syntax easy to learn and understand the code block \n",
    "  - Open source easy to access\n",
    "  - huge number of Libraries which is free\n",
    "  - platform independt\n",
    "- **Disadvantages**\n",
    "  - slower execution due to line by line execution\n",
    "  - Run-time Errors if any error occures while compiling the code program stops there only"
   ]
  },
  {
   "cell_type": "markdown",
   "id": "0a318d40-e4c7-4afc-88ef-e1c3c8967097",
   "metadata": {},
   "source": [
    "4. Explain the about identifiers and it's rules?\n",
    "- **Identifiers** are identifiers like functions name, key words, variable names\n",
    "- it should not be a python key word\n",
    "- python programming language is case sensitive\n",
    "- mostly identifier name start with lower level case letters, and it's should have the numbers at stsart and no special character also\n",
    "- example: name = 'Vamshi krishna'"
   ]
  },
  {
   "cell_type": "markdown",
   "id": "bceda1a5-2bcb-4f52-b83b-7fbcaaf092c7",
   "metadata": {},
   "source": [
    "### Runing all the following variables and separate valid and invalid varaibles"
   ]
  },
  {
   "cell_type": "code",
   "execution_count": 28,
   "id": "5614c148-d34e-49b4-9738-41f94ac41477",
   "metadata": {},
   "outputs": [
    {
     "data": {
      "text/plain": [
       "25"
      ]
     },
     "execution_count": 28,
     "metadata": {},
     "output_type": "execute_result"
    }
   ],
   "source": [
    "my_variable = 25\n",
    "my_variable"
   ]
  },
  {
   "cell_type": "code",
   "execution_count": 30,
   "id": "082ba703-bb73-45f8-88e5-a310e1007e60",
   "metadata": {},
   "outputs": [
    {
     "data": {
      "text/plain": [
       "40.7"
      ]
     },
     "execution_count": 30,
     "metadata": {},
     "output_type": "execute_result"
    }
   ],
   "source": [
    "counter = 40.7\n",
    "counter"
   ]
  },
  {
   "cell_type": "code",
   "execution_count": 32,
   "id": "6cbfda55-94fd-4708-aa81-2583019022fe",
   "metadata": {},
   "outputs": [
    {
     "data": {
      "text/plain": [
       "'_total=Hello'"
      ]
     },
     "execution_count": 32,
     "metadata": {},
     "output_type": "execute_result"
    }
   ],
   "source": [
    "\"_total=\"\"Hello\"\"\""
   ]
  },
  {
   "cell_type": "code",
   "execution_count": 34,
   "id": "831a812a-e6e2-4f4d-9a97-89fe86b3ca82",
   "metadata": {},
   "outputs": [
    {
     "ename": "SyntaxError",
     "evalue": "invalid syntax (1183792534.py, line 1)",
     "output_type": "error",
     "traceback": [
      "\u001b[1;36m  Cell \u001b[1;32mIn[34], line 1\u001b[1;36m\u001b[0m\n\u001b[1;33m    123abc=1234\u001b[0m\n\u001b[1;37m       ^\u001b[0m\n\u001b[1;31mSyntaxError\u001b[0m\u001b[1;31m:\u001b[0m invalid syntax\n"
     ]
    }
   ],
   "source": [
    "123abc=1234"
   ]
  },
  {
   "cell_type": "code",
   "execution_count": 36,
   "id": "8cea0296-4192-4e17-85a7-33cbddec4e38",
   "metadata": {},
   "outputs": [
    {
     "ename": "SyntaxError",
     "evalue": "invalid syntax (665292480.py, line 1)",
     "output_type": "error",
     "traceback": [
      "\u001b[1;36m  Cell \u001b[1;32mIn[36], line 1\u001b[1;36m\u001b[0m\n\u001b[1;33m    my variable = 6.7\u001b[0m\n\u001b[1;37m       ^\u001b[0m\n\u001b[1;31mSyntaxError\u001b[0m\u001b[1;31m:\u001b[0m invalid syntax\n"
     ]
    }
   ],
   "source": [
    "my variable = 6.7\n",
    "my variable"
   ]
  },
  {
   "cell_type": "code",
   "execution_count": 38,
   "id": "14f3b101-7abd-4203-8c38-bfa22a47f502",
   "metadata": {},
   "outputs": [
    {
     "data": {
      "text/plain": [
       "'@count = hi'"
      ]
     },
     "execution_count": 38,
     "metadata": {},
     "output_type": "execute_result"
    }
   ],
   "source": [
    "\"@count = \"\"hi\"\"\""
   ]
  },
  {
   "cell_type": "code",
   "execution_count": 40,
   "id": "3e851ae1-566d-4bff-8fff-abb6f9340fe2",
   "metadata": {},
   "outputs": [
    {
     "data": {
      "text/plain": [
       "'for = True'"
      ]
     },
     "execution_count": 40,
     "metadata": {},
     "output_type": "execute_result"
    }
   ],
   "source": [
    "\"for = \"\"True\"\"\""
   ]
  },
  {
   "cell_type": "code",
   "execution_count": 44,
   "id": "fbdff754-eaac-40ca-93ff-fba317f61901",
   "metadata": {},
   "outputs": [
    {
     "data": {
      "text/plain": [
       "136"
      ]
     },
     "execution_count": 44,
     "metadata": {},
     "output_type": "execute_result"
    }
   ],
   "source": [
    "Name123 = 136\n",
    "Name123"
   ]
  },
  {
   "cell_type": "code",
   "execution_count": 46,
   "id": "a315c226-4e97-4256-b046-476126c696c5",
   "metadata": {},
   "outputs": [
    {
     "data": {
      "text/plain": [
       "True"
      ]
     },
     "execution_count": 46,
     "metadata": {},
     "output_type": "execute_result"
    }
   ],
   "source": [
    "myFunction = True\n",
    "myFunction"
   ]
  },
  {
   "cell_type": "code",
   "execution_count": 48,
   "id": "0b4e9c21-83ee-4df6-af88-eafb7d26334a",
   "metadata": {},
   "outputs": [
    {
     "data": {
      "text/plain": [
       "False"
      ]
     },
     "execution_count": 48,
     "metadata": {},
     "output_type": "execute_result"
    }
   ],
   "source": [
    "_data = False\n",
    "_data"
   ]
  },
  {
   "cell_type": "code",
   "execution_count": 50,
   "id": "0d376ad1-91d1-4d4d-91d8-d3fd9070f238",
   "metadata": {},
   "outputs": [
    {
     "data": {
      "text/plain": [
       "'if_condition? = Innomatics'"
      ]
     },
     "execution_count": 50,
     "metadata": {},
     "output_type": "execute_result"
    }
   ],
   "source": [
    "\"if_condition? = \"\"Innomatics\"\"\""
   ]
  },
  {
   "cell_type": "code",
   "execution_count": 52,
   "id": "c846ab44-3647-41b9-8d8a-9c7fccba26c1",
   "metadata": {},
   "outputs": [
    {
     "data": {
      "text/plain": [
       "'class = Hyderabad'"
      ]
     },
     "execution_count": 52,
     "metadata": {},
     "output_type": "execute_result"
    }
   ],
   "source": [
    " \"class = \"\"Hyderabad\"\"\""
   ]
  },
  {
   "cell_type": "markdown",
   "id": "14779cac-4b1e-4620-9f8d-528d2b585743",
   "metadata": {},
   "source": [
    "### Use different Identifiers (variables) and assign the below values"
   ]
  },
  {
   "cell_type": "code",
   "execution_count": 60,
   "id": "d2feb5ed-507a-4288-a553-2788a5488ae4",
   "metadata": {},
   "outputs": [
    {
     "data": {
      "text/plain": [
       "10"
      ]
     },
     "execution_count": 60,
     "metadata": {},
     "output_type": "execute_result"
    }
   ],
   "source": [
    "new_variable = 10\n",
    "new_variable"
   ]
  },
  {
   "cell_type": "code",
   "execution_count": 62,
   "id": "d5a2f7ea-264d-4a7a-8e66-1ef281bd9257",
   "metadata": {},
   "outputs": [
    {
     "data": {
      "text/plain": [
       "5"
      ]
     },
     "execution_count": 62,
     "metadata": {},
     "output_type": "execute_result"
    }
   ],
   "source": [
    "a = 5\n",
    "a"
   ]
  },
  {
   "cell_type": "code",
   "execution_count": 64,
   "id": "15cebd1c-c158-4325-8420-0efeae28dc21",
   "metadata": {},
   "outputs": [
    {
     "data": {
      "text/plain": [
       "3.14159"
      ]
     },
     "execution_count": 64,
     "metadata": {},
     "output_type": "execute_result"
    }
   ],
   "source": [
    "b_float = 3.14159\n",
    "b_float"
   ]
  },
  {
   "cell_type": "code",
   "execution_count": 66,
   "id": "0a1798ab-942e-41e0-92a5-3d681923749f",
   "metadata": {},
   "outputs": [
    {
     "data": {
      "text/plain": [
       "-0.12345"
      ]
     },
     "execution_count": 66,
     "metadata": {},
     "output_type": "execute_result"
    }
   ],
   "source": [
    "c_new_variable = -0.12345\n",
    "c_new_variable"
   ]
  },
  {
   "cell_type": "code",
   "execution_count": 68,
   "id": "dd5e157b-af30-4219-a8f3-03b3c06e92b2",
   "metadata": {},
   "outputs": [
    {
     "data": {
      "text/plain": [
       "1000"
      ]
     },
     "execution_count": 68,
     "metadata": {},
     "output_type": "execute_result"
    }
   ],
   "source": [
    "d = 1000\n",
    "d"
   ]
  },
  {
   "cell_type": "code",
   "execution_count": 70,
   "id": "cee328ec-afc8-49a9-8fc0-522edbccc764",
   "metadata": {},
   "outputs": [
    {
     "data": {
      "text/plain": [
       "'Hello, World!'"
      ]
     },
     "execution_count": 70,
     "metadata": {},
     "output_type": "execute_result"
    }
   ],
   "source": [
    "Wish = \"\"\"Hello, World!\"\"\"\n",
    "Wish"
   ]
  },
  {
   "cell_type": "code",
   "execution_count": 72,
   "id": "7498a4f1-a54a-49e2-9ae1-f6f26b9b77c1",
   "metadata": {},
   "outputs": [
    {
     "data": {
      "text/plain": [
       "'Python'"
      ]
     },
     "execution_count": 72,
     "metadata": {},
     "output_type": "execute_result"
    }
   ],
   "source": [
    "p = \"\"\"Python\"\"\"\n",
    "p"
   ]
  },
  {
   "cell_type": "code",
   "execution_count": 74,
   "id": "e59dc66f-b9af-44da-a1e1-2474666f438a",
   "metadata": {},
   "outputs": [
    {
     "data": {
      "text/plain": [
       "'I am learning'"
      ]
     },
     "execution_count": 74,
     "metadata": {},
     "output_type": "execute_result"
    }
   ],
   "source": [
    "vamshi = \"\"\"I am learning\"\"\"\n",
    "vamshi"
   ]
  },
  {
   "cell_type": "code",
   "execution_count": 76,
   "id": "026de4df-2605-46ed-8180-3aed0136b400",
   "metadata": {},
   "outputs": [
    {
     "data": {
      "text/plain": [
       "'Text type'"
      ]
     },
     "execution_count": 76,
     "metadata": {},
     "output_type": "execute_result"
    }
   ],
   "source": [
    "text = \"\"\"Text type\"\"\"\n",
    "text"
   ]
  },
  {
   "cell_type": "code",
   "execution_count": 78,
   "id": "a8bc1c98-faf8-4ee0-8271-5010027b9800",
   "metadata": {},
   "outputs": [
    {
     "data": {
      "text/plain": [
       "'String'"
      ]
     },
     "execution_count": 78,
     "metadata": {},
     "output_type": "execute_result"
    }
   ],
   "source": [
    "string = \"\"\"String\"\"\"\n",
    "string"
   ]
  },
  {
   "cell_type": "code",
   "execution_count": 80,
   "id": "06a46a2b-6b0e-4fce-81c4-017e13213154",
   "metadata": {},
   "outputs": [
    {
     "data": {
      "text/plain": [
       "True"
      ]
     },
     "execution_count": 80,
     "metadata": {},
     "output_type": "execute_result"
    }
   ],
   "source": [
    "t = True\n",
    "t"
   ]
  },
  {
   "cell_type": "code",
   "execution_count": 82,
   "id": "f8f0abd0-613e-49c0-9d1d-e55cac81e696",
   "metadata": {},
   "outputs": [
    {
     "data": {
      "text/plain": [
       "False"
      ]
     },
     "execution_count": 82,
     "metadata": {},
     "output_type": "execute_result"
    }
   ],
   "source": [
    "f = False\n",
    "f"
   ]
  },
  {
   "cell_type": "markdown",
   "id": "f265c3b4-2704-4851-ac91-fc279c1a5fed",
   "metadata": {},
   "source": [
    "#### ----------------------------------------------------------The End!--------------------------------------------------------------"
   ]
  }
 ],
 "metadata": {
  "kernelspec": {
   "display_name": "Python [conda env:pneumonia_env]",
   "language": "python",
   "name": "conda-env-pneumonia_env-py"
  },
  "language_info": {
   "codemirror_mode": {
    "name": "ipython",
    "version": 3
   },
   "file_extension": ".py",
   "mimetype": "text/x-python",
   "name": "python",
   "nbconvert_exporter": "python",
   "pygments_lexer": "ipython3",
   "version": "3.9.15"
  }
 },
 "nbformat": 4,
 "nbformat_minor": 5
}
